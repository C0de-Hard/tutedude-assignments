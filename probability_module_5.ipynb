{
 "cells": [
  {
   "cell_type": "markdown",
   "id": "eacc5bb4",
   "metadata": {},
   "source": [
    "### 1(a) Tossing a coin 10,000 times"
   ]
  },
  {
   "cell_type": "code",
   "execution_count": 12,
   "id": "ef06bd8a",
   "metadata": {
    "scrolled": true
   },
   "outputs": [
    {
     "name": "stdout",
     "output_type": "stream",
     "text": [
      "P(Head) ≈ 0.4987\n",
      "P(Tail) ≈ 0.5013\n"
     ]
    }
   ],
   "source": [
    "\n",
    "import random\n",
    "\n",
    "N = 10000\n",
    "head, tail = 0, 0\n",
    "\n",
    "for _ in range(N):\n",
    "    side = random.choice([\"H\",\"T\"])\n",
    "    if side == \"H\":\n",
    "        head += 1\n",
    "    else:\n",
    "        tail += 1\n",
    "\n",
    "print(\"P(Head) ≈\", head/N)\n",
    "print(\"P(Tail) ≈\", tail/N)\n"
   ]
  },
  {
   "cell_type": "code",
   "execution_count": 83,
   "id": "4c89f6a6-c309-4dff-b616-28ff1cf74928",
   "metadata": {
    "scrolled": true
   },
   "outputs": [],
   "source": [
    "#a coin is tossed 10k times and the probability of Head and Tail is calculated based on their occurences.\n",
    "#theoretically it is P(Head) = P(Tail) = 0.5 "
   ]
  },
  {
   "cell_type": "markdown",
   "id": "132793f4",
   "metadata": {},
   "source": [
    "### 1(b) Probability of sum = 7"
   ]
  },
  {
   "cell_type": "code",
   "execution_count": 81,
   "id": "f363b4c2",
   "metadata": {},
   "outputs": [
    {
     "name": "stdout",
     "output_type": "stream",
     "text": [
      "P(sum=7) ≈ 0.1671\n"
     ]
    }
   ],
   "source": [
    "N = 10000\n",
    "found = 0\n",
    "for _ in range(N):\n",
    "    a, b = random.randint(1,6), random.randint(1,6)\n",
    "    if a+b == 7:\n",
    "        found += 1\n",
    "\n",
    "print(\"P(sum=7) ≈\", found/N)\n"
   ]
  },
  {
   "cell_type": "code",
   "execution_count": null,
   "id": "b27c7752-f2bc-4bc3-a7d4-764091693a67",
   "metadata": {},
   "outputs": [],
   "source": [
    "#2 dices are rolled N times and P(sum == 7) is calculated which is theoretically 6/36 ~ 0.166"
   ]
  },
  {
   "cell_type": "markdown",
   "id": "74cbb7b1",
   "metadata": {},
   "source": [
    "### 2. At least one '6' per 10 throws"
   ]
  },
  {
   "cell_type": "code",
   "execution_count": 17,
   "id": "aa7c9d6c",
   "metadata": {},
   "outputs": [
    {
     "name": "stdout",
     "output_type": "stream",
     "text": [
      "Estimated probability: 0.819\n"
     ]
    }
   ],
   "source": [
    "\n",
    "def atleast_one_six(N = 1000): #N telss no of trials\n",
    "    found = 0\n",
    "    for x in range(N):\n",
    "        dice = [random.randint(1,6) for x in range(10)]\n",
    "        if 6 in dice:\n",
    "            found += 1\n",
    "    return found/N\n",
    "\n",
    "print(\"Estimated probability:\", atleast_one_six())\n"
   ]
  },
  {
   "cell_type": "code",
   "execution_count": null,
   "id": "8eb0fba3-6ea8-47aa-a0e6-94507800e811",
   "metadata": {},
   "outputs": [],
   "source": [
    "#A function is created to calculate the Probability P( cnt of 6 >= 1 in 10 throws) for any input N\n",
    "#theoretically it is = 1 - P(no 6 appeared even once) = 1 - (5/6)^10   = 0.83849"
   ]
  },
  {
   "cell_type": "markdown",
   "id": "44f93c7c",
   "metadata": {},
   "source": [
    "### 3. Conditional Probability & Bayes"
   ]
  },
  {
   "cell_type": "code",
   "execution_count": 101,
   "id": "e1936598",
   "metadata": {},
   "outputs": [
    {
     "name": "stdout",
     "output_type": "stream",
     "text": [
      "P(R|B) ≈ 0.22588832487309646\n"
     ]
    }
   ],
   "source": [
    "\n",
    "colors = [\"R\"]*5 + [\"G\"]*7 + [\"B\"]*8\n",
    "draws = [random.choice(colors) for x in range(1000)]\n",
    "\n",
    "count_prevB, count_red_afterB = 0, 0\n",
    "\n",
    "for i in range(1,len(draws)):\n",
    "    if draws[i-1]==\"B\":\n",
    "        count_prevB += 1\n",
    "        if draws[i]==\"R\":\n",
    "            count_red_afterB += 1\n",
    "\n",
    "p_red_given_blue = count_red_afterB/count_prevB\n",
    "print(\"P(R|B) ≈\", p_red_given_blue)\n"
   ]
  },
  {
   "cell_type": "code",
   "execution_count": null,
   "id": "744689b9-1ea2-4fe5-aa49-b457263861e0",
   "metadata": {},
   "outputs": [],
   "source": [
    "#This program aims to calculate conditional probability and verifies the result ie P(R|B) with Bayes THeorem\n",
    "#Since replacement is allowed the conditional prabability shrinks to normal probability ie P(R|B) = P(R) = 5/20 = 0.25 "
   ]
  },
  {
   "cell_type": "markdown",
   "id": "2c58fb2c",
   "metadata": {},
   "source": [
    "### 4. Discrete RV Empirical Stats"
   ]
  },
  {
   "cell_type": "code",
   "execution_count": 102,
   "id": "e153cfb1",
   "metadata": {},
   "outputs": [
    {
     "name": "stdout",
     "output_type": "stream",
     "text": [
      "Mean: 2.098\n",
      "Variance: 0.628396\n",
      "Std Dev: 0.7927143243312814\n"
     ]
    }
   ],
   "source": [
    "\n",
    "import numpy as np\n",
    "\n",
    "values = [1,2,3]\n",
    "probs = [0.25, 0.35, 0.40]\n",
    "\n",
    "samp = np.random.choice(values, size=1000, p=probs)\n",
    "print(\"Mean:\", samp.mean())\n",
    "print(\"Variance:\", samp.var())\n",
    "print(\"Std Dev:\", samp.std())\n"
   ]
  },
  {
   "cell_type": "code",
   "execution_count": null,
   "id": "f57d029b-73f6-45df-a407-04dbb2487278",
   "metadata": {},
   "outputs": [],
   "source": [
    "#This program picks 1000 random values from the list [1, 2, 3] based on the given probabilities\n",
    "#and then calculates the average, variance, and standard deviation of those samples."
   ]
  },
  {
   "cell_type": "markdown",
   "id": "5877e432",
   "metadata": {},
   "source": [
    "### 5. Exponential Distribution Visualization"
   ]
  },
  {
   "cell_type": "code",
   "execution_count": 74,
   "id": "8b9a338b",
   "metadata": {},
   "outputs": [
    {
     "name": "stdout",
     "output_type": "stream",
     "text": [
      "Requirement already satisfied: matplotlib in ./lib/python3.13/site-packages (3.10.6)\n",
      "Requirement already satisfied: contourpy>=1.0.1 in ./lib/python3.13/site-packages (from matplotlib) (1.3.3)\n",
      "Requirement already satisfied: cycler>=0.10 in ./lib/python3.13/site-packages (from matplotlib) (0.12.1)\n",
      "Requirement already satisfied: fonttools>=4.22.0 in ./lib/python3.13/site-packages (from matplotlib) (4.60.1)\n",
      "Requirement already satisfied: kiwisolver>=1.3.1 in ./lib/python3.13/site-packages (from matplotlib) (1.4.9)\n",
      "Requirement already satisfied: numpy>=1.23 in ./lib/python3.13/site-packages (from matplotlib) (2.3.3)\n",
      "Requirement already satisfied: packaging>=20.0 in ./lib/python3.13/site-packages (from matplotlib) (25.0)\n",
      "Requirement already satisfied: pillow>=8 in ./lib/python3.13/site-packages (from matplotlib) (11.3.0)\n",
      "Requirement already satisfied: pyparsing>=2.3.1 in ./lib/python3.13/site-packages (from matplotlib) (3.2.5)\n",
      "Requirement already satisfied: python-dateutil>=2.7 in ./lib/python3.13/site-packages (from matplotlib) (2.9.0.post0)\n",
      "Requirement already satisfied: six>=1.5 in ./lib/python3.13/site-packages (from python-dateutil>=2.7->matplotlib) (1.17.0)\n"
     ]
    },
    {
     "data": {
      "image/png": "[encoded data removed]",
      "text/plain": [
       "<Figure size 640x480 with 1 Axes>"
      ]
     },
     "metadata": {},
     "output_type": "display_data"
    }
   ],
   "source": [
    "\n",
    "import matplotlib.pyplot as plt\n",
    "\n",
    "exp_data = np.random.exponential(scale=5, size=2000)\n",
    "plt.hist(exp_data, bins=30, density=True, alpha=0.6, label=\"Histogram\")\n",
    "\n",
    "xs = np.linspace(0, exp_data.max(), 400)\n",
    "pdf = (1/5)*np.exp(-xs/5)\n",
    "plt.plot(xs, pdf, 'r-', lw=2, label=\"PDF\")\n",
    "\n",
    "plt.legend(); plt.title(\"Exponential (mean=5)\")\n",
    "plt.show()\n"
   ]
  },
  {
   "cell_type": "code",
   "execution_count": null,
   "id": "6bb3d305-dfeb-421f-a6e7-710d914af406",
   "metadata": {},
   "outputs": [],
   "source": [
    "'''The program first creates 2000 random numbers based on an exponential distribution with mean 5. \n",
    "Then, it draws a histogram to show how the data is spread out and adds the exact probability curve on top\n",
    "to compare the sample with the expected pattern, using numpy for sampling and matplotlib for plotting.'''"
   ]
  },
  {
   "cell_type": "markdown",
   "id": "858438e6",
   "metadata": {},
   "source": [
    "### 6. Central Limit Theorem Simulation"
   ]
  },
  {
   "cell_type": "code",
   "execution_count": 75,
   "id": "23fbe064",
   "metadata": {},
   "outputs": [
    {
     "data": {
      "image/png": "[encoded data removed]",
      "text/plain": [
       "<Figure size 640x480 with 1 Axes>"
      ]
     },
     "metadata": {},
     "output_type": "display_data"
    },
    {
     "data": {
      "image/png": "[encoded data removed]",
      "text/plain": [
       "<Figure size 640x480 with 1 Axes>"
      ]
     },
     "metadata": {},
     "output_type": "display_data"
    }
   ],
   "source": [
    "\n",
    "U = np.random.uniform(0,1,10_000)\n",
    "\n",
    "means = [np.mean(np.random.choice(U, size=30)) for _ in range(1000)]\n",
    "\n",
    "plt.hist(U, bins=30, density=True, alpha=0.6, label=\"Uniform Data\")\n",
    "plt.title(\"Underlying Uniform\")\n",
    "plt.show()\n",
    "\n",
    "plt.hist(means, bins=30, density=True, alpha=0.6, color=\"orange\", label=\"Means\")\n",
    "plt.title(\"Distribution of Sample Means (n=30)\")\n",
    "plt.show()\n"
   ]
  },
  {
   "cell_type": "code",
   "execution_count": null,
   "id": "9a53351b-bea1-40c7-83b8-b96efefeb24c",
   "metadata": {},
   "outputs": [],
   "source": [
    "'''This code creates 10,000 uniform random numbers, then takes 1000 samples of size 30 from them to calculate their averages. \n",
    "It plots two histograms—one of the original data and one of the sample means to show how averaging makes the data’s shape more like a bell curve,illustrating the Central Limit Theorem.'''"
   ]
  }
 ],
 "metadata": {
  "kernelspec": {
   "display_name": "Python (jupyter-env)",
   "language": "python",
   "name": "jupyter-env"
  },
  "language_info": {
   "codemirror_mode": {
    "name": "ipython",
    "version": 3
   },
   "file_extension": ".py",
   "mimetype": "text/x-python",
   "name": "python",
   "nbconvert_exporter": "python",
   "pygments_lexer": "ipython3",
   "version": "3.13.5"
  }
 },
 "nbformat": 4,
 "nbformat_minor": 5
}
