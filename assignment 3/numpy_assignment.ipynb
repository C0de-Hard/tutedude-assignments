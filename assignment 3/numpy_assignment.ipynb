{
  "nbformat": 4,
  "nbformat_minor": 0,
  "metadata": {
    "colab": {
      "provenance": []
    },
    "kernelspec": {
      "name": "python3",
      "display_name": "Python 3"
    },
    "language_info": {
      "name": "python"
    }
  },
  "cells": [
    {
      "cell_type": "code",
      "execution_count": 1,
      "metadata": {
        "id": "G0TZToadReXy"
      },
      "outputs": [],
      "source": [
        "import numpy as np"
      ]
    },
    {
      "cell_type": "markdown",
      "source": [
        "1. 1D NumPy array with integers from 1 to 20"
      ],
      "metadata": {
        "id": "AKkqd-NsR_xI"
      }
    },
    {
      "cell_type": "code",
      "source": [
        "arr = np.arange(1,21)\n",
        "#a\n",
        "print(arr.sum())\n",
        "print(arr.mean())\n",
        "print(np.median(arr)) #median method doesnt exist in the ndarray class:\n",
        "print(arr.std())\n",
        "#b\n",
        "print(np.where(arr > 10)) #tuple output with a single element(ie array)"
      ],
      "metadata": {
        "colab": {
          "base_uri": "https://localhost:8080/"
        },
        "id": "y9fqXlcBSATa",
        "outputId": "23ce189d-c9fa-4653-9377-c6e4221366e7"
      },
      "execution_count": 2,
      "outputs": [
        {
          "output_type": "stream",
          "name": "stdout",
          "text": [
            "210\n",
            "10.5\n",
            "10.5\n",
            "5.766281297335398\n",
            "(array([10, 11, 12, 13, 14, 15, 16, 17, 18, 19]),)\n"
          ]
        }
      ]
    },
    {
      "cell_type": "markdown",
      "source": [
        "2. 2D NumPy array of shape 4 X 4 with numbers ranging from 1 to 16.  "
      ],
      "metadata": {
        "id": "gVn1ELSPXffA"
      }
    },
    {
      "cell_type": "code",
      "source": [
        "arr2 = np.arange(1,17).reshape(4,4)\n",
        "print(arr2) #a\n",
        "print(arr2.transpose()) #b\n",
        "print(\"RowWise sum = \",arr2.sum(axis=1))      #c\n",
        "print(\"ColumnWise sum = \",arr2.sum(axis=0))   #c"
      ],
      "metadata": {
        "colab": {
          "base_uri": "https://localhost:8080/"
        },
        "id": "EDavGBTTTKzv",
        "outputId": "1c071504-e5cc-4e5b-d1e9-e9e40cfa1a17"
      },
      "execution_count": 3,
      "outputs": [
        {
          "output_type": "stream",
          "name": "stdout",
          "text": [
            "[[ 1  2  3  4]\n",
            " [ 5  6  7  8]\n",
            " [ 9 10 11 12]\n",
            " [13 14 15 16]]\n",
            "[[ 1  5  9 13]\n",
            " [ 2  6 10 14]\n",
            " [ 3  7 11 15]\n",
            " [ 4  8 12 16]]\n",
            "RowWise sum =  [10 26 42 58]\n",
            "ColumnWise sum =  [28 32 36 40]\n"
          ]
        }
      ]
    },
    {
      "cell_type": "markdown",
      "source": [
        "3. two 3 X 3 arrays filled with random integers between 1 and 20."
      ],
      "metadata": {
        "id": "hTp3HetUXb-h"
      }
    },
    {
      "cell_type": "code",
      "source": [
        "sqMtx1 = np.random.randint(1,20,9).reshape(3,3)\n",
        "sqMtx2 = np.random.randint(1,20,9).reshape(3,3)\n",
        "print(sqMtx1)\n",
        "print(sqMtx2)\n",
        "print(sqMtx1 + sqMtx2)\n",
        "print(sqMtx1 - sqMtx2)\n",
        "print(sqMtx1 * sqMtx2)\n",
        "print(sqMtx1.dot(sqMtx2)) #there cant be a builtin op. (.)\n",
        "#coz it has diff meaning in programming"
      ],
      "metadata": {
        "colab": {
          "base_uri": "https://localhost:8080/"
        },
        "id": "_NdOShy3bLGM",
        "outputId": "8081a250-1003-48e9-f2b5-37b4073ba118"
      },
      "execution_count": 4,
      "outputs": [
        {
          "output_type": "stream",
          "name": "stdout",
          "text": [
            "[[11  7  5]\n",
            " [14  4 19]\n",
            " [ 8 16 18]]\n",
            "[[12  6 11]\n",
            " [16 14  1]\n",
            " [13 16  8]]\n",
            "[[23 13 16]\n",
            " [30 18 20]\n",
            " [21 32 26]]\n",
            "[[ -1   1  -6]\n",
            " [ -2 -10  18]\n",
            " [ -5   0  10]]\n",
            "[[132  42  55]\n",
            " [224  56  19]\n",
            " [104 256 144]]\n",
            "[[309 244 168]\n",
            " [479 444 310]\n",
            " [586 560 248]]\n"
          ]
        }
      ]
    },
    {
      "cell_type": "markdown",
      "source": [
        "4. 1D array of size 12 & then reshape to 3x4"
      ],
      "metadata": {
        "id": "W8vcHANY3Nax"
      }
    },
    {
      "cell_type": "code",
      "source": [
        "arr4 = np.arange(1,13)\n",
        "arr4 = arr4.reshape(3,4) #Now its 2D\n",
        "print(arr4[0:2 , -2:])"
      ],
      "metadata": {
        "id": "ln8wsIZwawIZ",
        "colab": {
          "base_uri": "https://localhost:8080/"
        },
        "outputId": "c6934e28-c04f-47bb-a85f-2441c2f5abdc"
      },
      "execution_count": 20,
      "outputs": [
        {
          "output_type": "stream",
          "name": "stdout",
          "text": [
            "[[3 4]\n",
            " [7 8]]\n"
          ]
        }
      ]
    }
  ]
}